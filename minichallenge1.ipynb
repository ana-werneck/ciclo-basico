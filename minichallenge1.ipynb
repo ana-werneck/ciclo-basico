{
 "cells": [
  {
   "cell_type": "code",
   "execution_count": 13,
   "metadata": {},
   "outputs": [
    {
     "name": "stdout",
     "output_type": "stream",
     "text": [
      "\n",
      "Grupo 1: \n",
      "Ana Werneck de Souza Dias\n",
      "Paulo Sergio Almeida de Oliveira\n",
      "Guilherme Vinicius Afonso Dias de Freitas\n",
      "Mateus Pamio Forcione de Oliveira e Souza\n",
      "Henrique Nogueira Pedro Lindoso\n",
      "\n",
      "Grupo 2: \n",
      "Marcelo Tamay Honda\n",
      "Leticia Amy Siramidu\n",
      "Theo Borten Radesca Migliano\n",
      "Maria Dulce Navarro de Britto Matos\n",
      "Gabriel Grub Vidal da Silva\n",
      "\n",
      "Grupo 3: \n",
      "Vitor Tatiama Gouveia\n",
      "Milena da Silva Ramos\n",
      "Kim Ju Hyang\n",
      "Adriel Faustino de Oliveira\n",
      "André Menniti Pennini\n",
      "\n",
      "Grupo 4:\n",
      "Felipe de Souza Lourenço\n",
      "Amanda Emi Yamasaki\n",
      "Fernanda Mayumi Sakamoto Iizuka\n",
      "Fernanda Mees Antunes\n"
     ]
    }
   ],
   "source": [
    "### MINI CHALLENGE: GRUPOS ###\n",
    "import random\n",
    "\n",
    "#Lista de bixos que não fizeram o curso de python\n",
    "bixos_sem_restrição = ['Adriel Faustino de Oliveira',\n",
    "                       \"Amanda Emi Yamasaki\",\n",
    "                       \"Ana Werneck de Souza Dias\",\n",
    "                       \"Felipe de Souza Lourenço\",\n",
    "                       \"Fernanda Mayumi Sakamoto Iizuka\",\n",
    "                       \"Guilherme Vinicius Afonso Dias de Freitas\",\n",
    "                       \"Kim Ju Hyang\",\n",
    "                       \"Leticia Amy Siramidu\",\n",
    "                       \"Marcelo Tamay Honda\",\n",
    "                       \"Maria Dulce Navarro de Britto Matos\",\n",
    "                       \"Mateus Pamio Forcione de Oliveira e Souza\",\n",
    "                       \"Milena da Silva Ramos\",\n",
    "                       \"Paulo Sergio Almeida de Oliveira\",\n",
    "                       \"Theo Borten Radesca Migliano\",\n",
    "                       \"Vitor Tatiama Gouveia\"]\n",
    "#Embaralhando a ordem dos nomes na lista de bixos que não fizeram curso de python\n",
    "random.shuffle(bixos_sem_restrição)\n",
    "\n",
    "#Lista de bixos que fizeram o curso de python\n",
    "bixos_com_restrição = [\"André Menniti Pennini\",\n",
    "                       \"Fernanda Mees Antunes\",\n",
    "                       \"Gabriel Grub Vidal da Silva\",\n",
    "                       \"Henrique Nogueira Pedro Lindoso\"]\n",
    "#Embaralhando a ordem dos nomes na lista de bixos que fizeram curso de python\n",
    "random.shuffle(bixos_com_restrição)\n",
    "\n",
    "#Montando os grupos com três ou quatro bixos que não fizeram curso de python e um que fez\n",
    "grupo_1 = bixos_sem_restrição[:4] + [bixos_com_restrição[0]]\n",
    "grupo_2 = bixos_sem_restrição[4:8] + [bixos_com_restrição[1]]\n",
    "grupo_3 = bixos_sem_restrição[8:12] + [bixos_com_restrição[2]]\n",
    "grupo_4 = bixos_sem_restrição[12:] + [bixos_com_restrição[3]]\n",
    "\n",
    "#output\n",
    "print(\"\\nGrupo 1: \")\n",
    "print(\"\\n\".join(grupo_1))\n",
    "\n",
    "print(\"\\nGrupo 2: \")\n",
    "print(\"\\n\".join(grupo_2))\n",
    "\n",
    "print(\"\\nGrupo 3: \")\n",
    "print(\"\\n\".join(grupo_3))\n",
    "\n",
    "print(\"\\nGrupo 4:\")\n",
    "print(\"\\n\".join(grupo_4))\n"
   ]
  }
 ],
 "metadata": {
  "kernelspec": {
   "display_name": "Python 3",
   "language": "python",
   "name": "python3"
  },
  "language_info": {
   "codemirror_mode": {
    "name": "ipython",
    "version": 3
   },
   "file_extension": ".py",
   "mimetype": "text/x-python",
   "name": "python",
   "nbconvert_exporter": "python",
   "pygments_lexer": "ipython3",
   "version": "3.11.3"
  },
  "orig_nbformat": 4
 },
 "nbformat": 4,
 "nbformat_minor": 2
}
